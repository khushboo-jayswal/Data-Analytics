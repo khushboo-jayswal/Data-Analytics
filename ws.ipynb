{
 "metadata": {
  "language_info": {
   "codemirror_mode": {
    "name": "ipython",
    "version": 3
   },
   "file_extension": ".py",
   "mimetype": "text/x-python",
   "name": "python",
   "nbconvert_exporter": "python",
   "pygments_lexer": "ipython3",
   "version": "3.9.4"
  },
  "orig_nbformat": 2,
  "kernelspec": {
   "name": "python394jvsc74a57bd0a043485bd46eb5d73de2290b5f593203af0340732fcd2e2fa448ffbe29d9718e",
   "display_name": "Python 3.9.4 64-bit"
  },
  "metadata": {
   "interpreter": {
    "hash": "a043485bd46eb5d73de2290b5f593203af0340732fcd2e2fa448ffbe29d9718e"
   }
  }
 },
 "nbformat": 4,
 "nbformat_minor": 2,
 "cells": [
  {
   "source": [
    "# Web Scripting\n",
    "\n",
    "### Read information form specific website"
   ],
   "cell_type": "markdown",
   "metadata": {}
  },
  {
   "cell_type": "code",
   "execution_count": 1,
   "metadata": {},
   "outputs": [],
   "source": [
    "import requests\n",
    "import bs4"
   ]
  },
  {
   "cell_type": "code",
   "execution_count": 2,
   "metadata": {},
   "outputs": [
    {
     "output_type": "execute_result",
     "data": {
      "text/plain": [
       "requests.models.Response"
      ]
     },
     "metadata": {},
     "execution_count": 2
    }
   ],
   "source": [
    "res = requests.get('https://google.co.in')\n",
    "type(res)"
   ]
  },
  {
   "cell_type": "code",
   "execution_count": 3,
   "metadata": {},
   "outputs": [
    {
     "output_type": "execute_result",
     "data": {
      "text/plain": [
       "'<!doctype html><html itemscope=\"\" itemtype=\"http://schema.org/WebPage\" lang=\"en-IN\"><head><meta content=\"text/html; charset=UTF-8\" http-equiv=\"Content-Type\"><meta content=\"/logos/doodles/2021/uefa-euro-2020-6753651837109267-l.png\" itemprop=\"image\"><meta content=\"Start of UEFA EURO 2020\" property=\"twitter:title\"><meta content=\"UEFA EURO 2020 kicks off! #GoogleDoodle\\xa0\" property=\"twitter:description\"><meta content=\"UEFA EURO 2020 kicks off! #GoogleDoodle\\xa0\" property=\"og:description\"><meta content=\"summary_large_image\" property=\"twitter:card\"><meta content=\"@GoogleDoodles\" property=\"twitter:site\"><meta content=\"https://www.google.com/logos/doodles/2021/uefa-euro-2020-6753651837109267-2x.png\" property=\"twitter:image\"><meta content=\"https://www.google.com/logos/doodles/2021/uefa-euro-2020-6753651837109267-2x.png\" property=\"og:image\"><meta content=\"838\" property=\"og:image:width\"><meta content=\"388\" property=\"og:image:height\"><title>Google</title><script nonce=\"6+YFUJX5oF1Ih66JbWICvQ==\">(function(){window.google={kEI:\\'k9vCYP2gLOGI4-EP9KOjmAo\\',kEXPI:\\'0,772215,1,530320,56873,954,5105,206,2414,2390,2316,383,246,5,1354,5251,16231,10,1106274,1197739,513,30,328985,51223,16115,28684,17572,1325,3533,1362,9291,3020,3897,13691,4020,978,13228,3847,4192,6430,1141,7512,5874,235,4282,2780,917,5081,1593,1279,2212,239,291,149,562,541,840,2196,4101,3514,606,2023,2297,14670,3229,2843,7,12354,5096,7876,4929,108,3407,908,2,941,2614,2397,7468,3277,3,346,230,1014,1,820,7,4618,148,5990,4050,1283,991,1661,4,1528,2304,1236,5803,74,1717,266,2626,2015,4067,2506,4928,2110,1714,3050,2658,4242,520,2595,30,3854,9774,1590,717,636,1494,5586,5545,4990,665,2522,3299,2536,2047,2050,16,3119,6,908,3,3541,1,4174,10536,1814,283,912,5992,6754,432,552,4788,2,1394,1525,8,1273,1715,2,3057,2017,521,2,1,3,2717,287,20,146,1068,3,42,3,667,666,3845,825,2,61,784,254,494,356,1097,924,93,198,117,1398,561,56,117,1158,933,3239,406,2091,1606,172,2737,4,846,1512,453,2,1040,1160,2292,202,573,1125,1,401,92,2,2,430,277,1303,603,2,835,33,247,478,180,138,1204,2,3948,217,694,336,3,169,2,349,58,2,144,3,75,42,10,893,1367,139,1455,1120,46,16,254,53,16,1447,320,1336,405,265,61,176,1197,168,74,263,255,1425,939,672,347,16,633,76,453,2,634,5632406,100,90,4,32,63,155,2,43,16,5995638,651,521,46,2800650,882,444,1,2,80,1,1796,1,9,2,2551,1,748,141,795,563,1,4265,1,1,2,1331,3299,843,2609,155,17,13,72,139,4,2,20,2,169,13,19,46,5,39,96,284,4,4,4,4,4,4,8,4,4,4,24,196,29,2,2,1,2,1,2,2,7,4,1,2,2,2,2,2,2,70,283,438,75,3,93,4,23955262,2772895,1237379,268,1835,26464,2,868,1509,3,120,3,6,338,3,1381,958,75,1080,5\\',kBL:\\'oItP\\'};google.sn=\\'webhp\\';google.kHL=\\'en-IN\\';})();(function(){\\nvar f=this||self;var h,k=[];function l(a){for(var b;a&&(!a.getAttribute||!(b=a.getAttribute(\"eid\")));)a=a.parentNode;return b||h}function m(a){for(var b=null;a&&(!a.getAttribute||!(b=a.getAttribute(\"leid\")));)a=a.parentNode;return b}\\nfunction n(a,b,c,d,g){var e=\"\";c||-1!==b.search(\"&ei=\")||(e=\"&ei=\"+l(d),-1===b.search(\"&lei=\")&&(d=m(d))&&(e+=\"&lei=\"+d));d=\"\";!c&&f._cshid&&-1===b.search(\"&cshid=\")&&\"slh\"!==a&&(d=\"&cshid=\"+f._cshid);c=c||\"/\"+(g||\"gen_204\")+\"?atyp=i&ct=\"+a+\"&cad=\"+b+e+\"&zx=\"+Date.now()+d;/^http:/i.test(c)&&\"https:\"===window.location.protocol&&(google.ml&&google.ml(Error(\"a\"),!1,{src:c,glmm:1}),c=\"\");return c};h=google.kEI;google.getEI=l;google.getLEI=m;google.ml=function(){return null};google.log=function(a,b,c,d,g){if(c=n(a,b,c,d,g)){a=new Image;var e=k.length;k[e]=a;a.onerror=a.onload=a.onabort=function(){delete k[e]};a.src=c}};google.logUrl=n;}).call(this);(function(){\\ngoogle.y={};google.sy=[];google.x=function(a,b){if(a)var c=a.id;else{do c=Math.random();while(google.y[c])}google.y[c]=[a,b];return!1};google.sx=function(a){google.sy.push(a)};google.lm=[];google.plm=function(a){google.lm.push.apply(google.lm,a)};google.lq=[];google.load=function(a,b,c){google.lq.push([[a],b,c])};google.loadAll=function(a,b){google.lq.push([a,b])};google.bx=!1;google.lx=function(){};}).call(this);google.f={};(function(){\\ndocument.documentElement.addEventListener(\"submit\",function(b){var a;if(a=b.target){var c=a.getAttribute(\"data-submitfalse\");a=\"1\"==c||\"q\"==c&&!a.elements.q.value?!0:!1}else a=!1;a&&(b.preventDefault(),b.stopPropagation())},!0);document.documentElement.addEventListener(\"click\",function(b){var a;a:{for(a=b.target;a&&a!=document.documentElement;a=a.parentElement)if(\"A\"==a.tagName){a=\"1\"==a.getAttribute(\"data-nohref\");break a}a=!1}a&&b.preventDefault()},!0);}).call(this);</script><style>#gbar,#guser{font-size:13px;padding-top:1px !important;}#gbar{height:22px}#guser{padding-bottom:7px !important;text-align:right}.gbh,.gbd{border-top:1px solid #c9d7f1;font-size:1px}.gbh{height:0;position:absolute;top:24px;width:100%}@media all{.gb1{height:22px;margin-right:.5em;vertical-align:top}#gbar{float:left}}a.gb1,a.gb4{text-decoration:underline !important}a.gb1,a.gb4{color:#00c !important}.gbi .gb4{color:#dd8e27 !important}.gbf .gb4{color:#900 !important}\\n</style><style>body,td,a,p,.h{font-family:arial,sans-serif}body{margin:0;overflow-y:scroll}#gog{padding:3px 8px 0}td{line-height:.8em}.gac_m td{line-height:17px}form{margin-bottom:20px}.h{color:#1558d6}em{font-weight:bold;font-style:normal}.lst{height:25px;width:496px}.gsfi,.lst{font:18px arial,sans-serif}.gsfs{font:17px arial,sans-serif}.ds{display:inline-box;display:inline-block;margin:3px 0 4px;margin-left:4px}input{font-family:inherit}body{background:#fff;color:#000}a{color:#4b11a8;text-decoration:none}a:hover,a:active{text-decoration:underline}.fl a{color:#1558d6}a:visited{color:#4b11a8}.sblc{padding-top:5px}.sblc a{display:block;margin:2px 0;margin-left:13px;font-size:11px}.lsbb{background:#f8f9fa;border:solid 1px;border-color:#dadce0 #70757a #70757a #dadce0;height:30px}.lsbb{display:block}#WqQANb a{display:inline-block;margin:0 12px}.lsb{background:url(/images/nav_logo229.png) 0 -261px repeat-x;border:none;color:#000;cursor:pointer;height:30px;margin:0;outline:0;font:15px arial,sans-serif;vertical-align:top}.lsb:active{background:#dadce0}.lst:focus{outline:none}</style><script nonce=\"6+YFUJX5oF1Ih66JbWICvQ==\"></script></head><body bgcolor=\"#fff\"><script nonce=\"6+YFUJX5oF1Ih66JbWICvQ==\">(function(){var src=\\'/images/nav_logo229.png\\';var iesg=false;document.body.onload = function(){window.n && window.n();if (document.images){new Image().src=src;}\\nif (!iesg){document.f&&document.f.q.focus();document.gbqf&&document.gbqf.q.focus();}\\n}\\n})();</script><div id=\"mngb\"><div id=gbar><nobr><b class=gb1>Search</b> <a class=gb1 href=\"https://www.google.co.in/imghp?hl=en&tab=wi\">Images</a> <a class=gb1 href=\"https://maps.google.co.in/maps?hl=en&tab=wl\">Maps</a> <a class=gb1 href=\"https://play.google.com/?hl=en&tab=w8\">Play</a> <a class=gb1 href=\"https://www.youtube.com/?gl=IN&tab=w1\">YouTube</a> <a class=gb1 href=\"https://news.google.com/?tab=wn\">News</a> <a class=gb1 href=\"https://mail.google.com/mail/?tab=wm\">Gmail</a> <a class=gb1 href=\"https://drive.google.com/?tab=wo\">Drive</a> <a class=gb1 style=\"text-decoration:none\" href=\"https://www.google.co.in/intl/en/about/products?tab=wh\"><u>More</u> &raquo;</a></nobr></div><div id=guser width=100%><nobr><span id=gbn class=gbi></span><span id=gbf class=gbf></span><span id=gbe></span><a href=\"http://www.google.co.in/history/optout?hl=en\" class=gb4>Web History</a> | <a  href=\"/preferences?hl=en\" class=gb4>Settings</a> | <a target=_top id=gb_70 href=\"https://accounts.google.com/ServiceLogin?hl=en&passive=true&continue=https://www.google.co.in/&ec=GAZAAQ\" class=gb4>Sign in</a></nobr></div><div class=gbh style=left:0></div><div class=gbh style=right:0></div></div><center><br clear=\"all\" id=\"lgpd\"><div id=\"lga\"><a href=\"/search?ie=UTF-8&amp;q=UEFA+EURO+2020&amp;oi=ddle&amp;ct=185377521&amp;hl=en-GB&amp;sa=X&amp;ved=0ahUKEwi9tuvX1I7xAhVhxDgGHfTRCKMQPQgD\"><img alt=\"Start of UEFA EURO 2020\" border=\"0\" height=\"220\" src=\"/logos/doodles/2021/uefa-euro-2020-6753651837109267-l.png\" title=\"Start of UEFA EURO 2020\" width=\"475\" id=\"hplogo\"><br></a><br></div><form action=\"/search\" name=\"f\"><table cellpadding=\"0\" cellspacing=\"0\"><tr valign=\"top\"><td width=\"25%\">&nbsp;</td><td align=\"center\" nowrap=\"\"><input name=\"ie\" value=\"ISO-8859-1\" type=\"hidden\"><input value=\"en-IN\" name=\"hl\" type=\"hidden\"><input name=\"source\" type=\"hidden\" value=\"hp\"><input name=\"biw\" type=\"hidden\"><input name=\"bih\" type=\"hidden\"><div class=\"ds\" style=\"height:32px;margin:4px 0\"><input class=\"lst\" style=\"margin:0;padding:5px 8px 0 6px;vertical-align:top;color:#000\" autocomplete=\"off\" value=\"\" title=\"Google Search\" maxlength=\"2048\" name=\"q\" size=\"57\"></div><br style=\"line-height:0\"><span class=\"ds\"><span class=\"lsbb\"><input class=\"lsb\" value=\"Google Search\" name=\"btnG\" type=\"submit\"></span></span><span class=\"ds\"><span class=\"lsbb\"><input class=\"lsb\" id=\"tsuid1\" value=\"I\\'m Feeling Lucky\" name=\"btnI\" type=\"submit\"><script nonce=\"6+YFUJX5oF1Ih66JbWICvQ==\">(function(){var id=\\'tsuid1\\';document.getElementById(id).onclick = function(){if (this.form.q.value){this.checked = 1;if (this.form.iflsig)this.form.iflsig.disabled = false;}\\nelse top.location=\\'/doodles/\\';};})();</script><input value=\"AINFCbYAAAAAYMLpo4tyKaVvIWKH0nmg9e_CGedM6q7d\" name=\"iflsig\" type=\"hidden\"></span></span></td><td class=\"fl sblc\" align=\"left\" nowrap=\"\" width=\"25%\"><a href=\"/advanced_search?hl=en-IN&amp;authuser=0\">Advanced search</a></td></tr></table><input id=\"gbv\" name=\"gbv\" type=\"hidden\" value=\"1\"><script nonce=\"6+YFUJX5oF1Ih66JbWICvQ==\">(function(){\\nvar a,b=\"1\";if(document&&document.getElementById)if(\"undefined\"!=typeof XMLHttpRequest)b=\"2\";else if(\"undefined\"!=typeof ActiveXObject){var c,d,e=[\"MSXML2.XMLHTTP.6.0\",\"MSXML2.XMLHTTP.3.0\",\"MSXML2.XMLHTTP\",\"Microsoft.XMLHTTP\"];for(c=0;d=e[c++];)try{new ActiveXObject(d),b=\"2\"}catch(h){}}a=b;if(\"2\"==a&&-1==location.search.indexOf(\"&gbv=2\")){var f=google.gbvu,g=document.getElementById(\"gbv\");g&&(g.value=a);f&&window.setTimeout(function(){location.href=f},0)};}).call(this);</script></form><div id=\"gac_scont\"></div><div style=\"font-size:83%;min-height:3.5em\"><br><div id=\"gws-output-pages-elements-homepage_additional_languages__als\"><style>#gws-output-pages-elements-homepage_additional_languages__als{font-size:small;margin-bottom:24px}#SIvCob{display:inline-block;line-height:28px;}#SIvCob a{padding:0 3px;}.H6sW5{display:inline-block;margin:0 2px;white-space:nowrap}.z4hgWe{display:inline-block;margin:0 2px}</style><div id=\"SIvCob\">Google offered in:  <a href=\"https://www.google.co.in/setprefs?sig=0_ilqVPW1FNVoLEs15MA4A5cbrPxY%3D&amp;hl=hi&amp;source=homepage&amp;sa=X&amp;ved=0ahUKEwi9tuvX1I7xAhVhxDgGHfTRCKMQ2ZgBCAU\">&#2361;&#2367;&#2344;&#2381;&#2342;&#2368;</a>    <a href=\"https://www.google.co.in/setprefs?sig=0_ilqVPW1FNVoLEs15MA4A5cbrPxY%3D&amp;hl=bn&amp;source=homepage&amp;sa=X&amp;ved=0ahUKEwi9tuvX1I7xAhVhxDgGHfTRCKMQ2ZgBCAY\">&#2476;&#2494;&#2434;&#2482;&#2494;</a>    <a href=\"https://www.google.co.in/setprefs?sig=0_ilqVPW1FNVoLEs15MA4A5cbrPxY%3D&amp;hl=te&amp;source=homepage&amp;sa=X&amp;ved=0ahUKEwi9tuvX1I7xAhVhxDgGHfTRCKMQ2ZgBCAc\">&#3108;&#3142;&#3122;&#3137;&#3095;&#3137;</a>    <a href=\"https://www.google.co.in/setprefs?sig=0_ilqVPW1FNVoLEs15MA4A5cbrPxY%3D&amp;hl=mr&amp;source=homepage&amp;sa=X&amp;ved=0ahUKEwi9tuvX1I7xAhVhxDgGHfTRCKMQ2ZgBCAg\">&#2350;&#2352;&#2366;&#2336;&#2368;</a>    <a href=\"https://www.google.co.in/setprefs?sig=0_ilqVPW1FNVoLEs15MA4A5cbrPxY%3D&amp;hl=ta&amp;source=homepage&amp;sa=X&amp;ved=0ahUKEwi9tuvX1I7xAhVhxDgGHfTRCKMQ2ZgBCAk\">&#2980;&#2990;&#3007;&#2996;&#3021;</a>    <a href=\"https://www.google.co.in/setprefs?sig=0_ilqVPW1FNVoLEs15MA4A5cbrPxY%3D&amp;hl=gu&amp;source=homepage&amp;sa=X&amp;ved=0ahUKEwi9tuvX1I7xAhVhxDgGHfTRCKMQ2ZgBCAo\">&#2711;&#2753;&#2716;&#2736;&#2750;&#2724;&#2752;</a>    <a href=\"https://www.google.co.in/setprefs?sig=0_ilqVPW1FNVoLEs15MA4A5cbrPxY%3D&amp;hl=kn&amp;source=homepage&amp;sa=X&amp;ved=0ahUKEwi9tuvX1I7xAhVhxDgGHfTRCKMQ2ZgBCAs\">&#3221;&#3240;&#3277;&#3240;&#3233;</a>    <a href=\"https://www.google.co.in/setprefs?sig=0_ilqVPW1FNVoLEs15MA4A5cbrPxY%3D&amp;hl=ml&amp;source=homepage&amp;sa=X&amp;ved=0ahUKEwi9tuvX1I7xAhVhxDgGHfTRCKMQ2ZgBCAw\">&#3374;&#3378;&#3375;&#3390;&#3379;&#3330;</a>    <a href=\"https://www.google.co.in/setprefs?sig=0_ilqVPW1FNVoLEs15MA4A5cbrPxY%3D&amp;hl=pa&amp;source=homepage&amp;sa=X&amp;ved=0ahUKEwi9tuvX1I7xAhVhxDgGHfTRCKMQ2ZgBCA0\">&#2602;&#2672;&#2588;&#2622;&#2604;&#2624;</a>  </div></div></div><span id=\"footer\"><div style=\"font-size:10pt\"><div style=\"margin:19px auto;text-align:center\" id=\"WqQANb\"><a href=\"/intl/en/ads/\">Advertising\\xa0Programs</a><a href=\"http://www.google.co.in/services/\">Business Solutions</a><a href=\"/intl/en/about.html\">About Google</a><a href=\"https://www.google.co.in/setprefdomain?prefdom=US&amp;sig=K_-0oJ6BKcf4_nZVmJmfbjjYxC074%3D\" id=\"fehl\">Google.com</a></div></div><p style=\"font-size:8pt;color:#70757a\">&copy; 2021 - <a href=\"/intl/en/policies/privacy/\">Privacy</a> - <a href=\"/intl/en/policies/terms/\">Terms</a></p></span></center><script nonce=\"6+YFUJX5oF1Ih66JbWICvQ==\">(function(){window.google.cdo={height:0,width:0};(function(){\\nvar a=window.innerWidth,b=window.innerHeight;if(!a||!b){var c=window.document,d=\"CSS1Compat\"==c.compatMode?c.documentElement:c.body;a=d.clientWidth;b=d.clientHeight}a&&b&&(a!=google.cdo.width||b!=google.cdo.height)&&google.log(\"\",\"\",\"/client_204?&atyp=i&biw=\"+a+\"&bih=\"+b+\"&ei=\"+google.kEI);}).call(this);})();</script> <script nonce=\"6+YFUJX5oF1Ih66JbWICvQ==\">(function(){google.xjs={ck:\\'\\',cs:\\'\\',excm:[],pml:false};})();</script>  <script nonce=\"6+YFUJX5oF1Ih66JbWICvQ==\">(function(){var u=\\'/xjs/_/js/k\\\\x3dxjs.hp.en.XxR1lubzbZU.O/m\\\\x3dsb_he,d/am\\\\x3dAHgCLA/d\\\\x3d1/ed\\\\x3d1/rs\\\\x3dACT90oFPK71iYXkRr3J-TnTyPC6deMkXGA\\';\\nvar e=this||self,f=function(a){return a};var g;var l=function(a,b){this.g=b===h?a:\"\"};l.prototype.toString=function(){return this.g+\"\"};var h={};function m(){var a=u;google.lx=function(){n(a);google.lx=function(){}};google.bx||google.lx()}\\nfunction n(a){google.timers&&google.timers.load&&google.tick&&google.tick(\"load\",\"xjsls\");var b=document;var c=\"SCRIPT\";\"application/xhtml+xml\"===b.contentType&&(c=c.toLowerCase());c=b.createElement(c);if(void 0===g){b=null;var k=e.trustedTypes;if(k&&k.createPolicy){try{b=k.createPolicy(\"goog#html\",{createHTML:f,createScript:f,createScriptURL:f})}catch(p){e.console&&e.console.error(p.message)}g=b}else g=b}a=(b=g)?b.createScriptURL(a):a;a=new l(a,h);c.src=a instanceof l&&a.constructor===l?a.g:\"type_error:TrustedResourceUrl\";var d;a=(c.ownerDocument&&c.ownerDocument.defaultView||window).document;(d=(a=null===(d=a.querySelector)||void 0===d?void 0:d.call(a,\"script[nonce]\"))?a.nonce||a.getAttribute(\"nonce\")||\"\":\"\")&&c.setAttribute(\"nonce\",d);document.body.appendChild(c);google.psa=!0};setTimeout(function(){m()},0);})();(function(){window.google.xjsu=\\'/xjs/_/js/k\\\\x3dxjs.hp.en.XxR1lubzbZU.O/m\\\\x3dsb_he,d/am\\\\x3dAHgCLA/d\\\\x3d1/ed\\\\x3d1/rs\\\\x3dACT90oFPK71iYXkRr3J-TnTyPC6deMkXGA\\';})();function _DumpException(e){throw e;}\\nfunction _F_installCss(c){}\\n(function(){google.jl={attn:false,blt:\\'none\\',dw:false,emtn:0,ine:false,lls:\\'default\\',pdt:0,snet:true,ubm:false,uwp:true};})();(function(){var pmc=\\'{\\\\x22d\\\\x22:{},\\\\x22sb_he\\\\x22:{\\\\x22agen\\\\x22:true,\\\\x22cgen\\\\x22:true,\\\\x22client\\\\x22:\\\\x22heirloom-hp\\\\x22,\\\\x22dh\\\\x22:true,\\\\x22dhqt\\\\x22:true,\\\\x22ds\\\\x22:\\\\x22\\\\x22,\\\\x22ffql\\\\x22:\\\\x22en\\\\x22,\\\\x22fl\\\\x22:true,\\\\x22host\\\\x22:\\\\x22google.co.in\\\\x22,\\\\x22isbh\\\\x22:28,\\\\x22jsonp\\\\x22:true,\\\\x22msgs\\\\x22:{\\\\x22cibl\\\\x22:\\\\x22Clear Search\\\\x22,\\\\x22dym\\\\x22:\\\\x22Did you mean:\\\\x22,\\\\x22lcky\\\\x22:\\\\x22I\\\\\\\\u0026#39;m Feeling Lucky\\\\x22,\\\\x22lml\\\\x22:\\\\x22Learn more\\\\x22,\\\\x22oskt\\\\x22:\\\\x22Input tools\\\\x22,\\\\x22psrc\\\\x22:\\\\x22This search was removed from your \\\\\\\\u003Ca href\\\\x3d\\\\\\\\\\\\x22/history\\\\\\\\\\\\x22\\\\\\\\u003EWeb History\\\\\\\\u003C/a\\\\\\\\u003E\\\\x22,\\\\x22psrl\\\\x22:\\\\x22Remove\\\\x22,\\\\x22sbit\\\\x22:\\\\x22Search by image\\\\x22,\\\\x22srch\\\\x22:\\\\x22Google Search\\\\x22},\\\\x22nrft\\\\x22:false,\\\\x22ovr\\\\x22:{},\\\\x22pq\\\\x22:\\\\x22\\\\x22,\\\\x22refpd\\\\x22:true,\\\\x22rfs\\\\x22:[],\\\\x22sbas\\\\x22:\\\\x220 3px 8px 0 rgba(0,0,0,0.2),0 0 0 1px rgba(0,0,0,0.08)\\\\x22,\\\\x22sbpl\\\\x22:16,\\\\x22sbpr\\\\x22:16,\\\\x22scd\\\\x22:10,\\\\x22stok\\\\x22:\\\\x2228A6sTzR9UyLezrvO8spaE8XquE\\\\x22,\\\\x22uhde\\\\x22:false}}\\';google.pmc=JSON.parse(pmc);})();</script>        </body></html>'"
      ]
     },
     "metadata": {},
     "execution_count": 3
    }
   ],
   "source": [
    "res.text"
   ]
  },
  {
   "cell_type": "code",
   "execution_count": 4,
   "metadata": {},
   "outputs": [
    {
     "output_type": "execute_result",
     "data": {
      "text/plain": [
       "bs4.BeautifulSoup"
      ]
     },
     "metadata": {},
     "execution_count": 4
    }
   ],
   "source": [
    "soup = bs4.BeautifulSoup(res.text, \"html\")\n",
    "type(soup)"
   ]
  },
  {
   "cell_type": "code",
   "execution_count": 5,
   "metadata": {},
   "outputs": [
    {
     "output_type": "execute_result",
     "data": {
      "text/plain": [
       "[<title>Google</title>]"
      ]
     },
     "metadata": {},
     "execution_count": 5
    }
   ],
   "source": [
    "n1 = soup.select('title')\n",
    "n1"
   ]
  },
  {
   "cell_type": "code",
   "execution_count": 6,
   "metadata": {},
   "outputs": [
    {
     "output_type": "execute_result",
     "data": {
      "text/plain": [
       "'Google'"
      ]
     },
     "metadata": {},
     "execution_count": 6
    }
   ],
   "source": [
    "n1[0].getText()"
   ]
  },
  {
   "cell_type": "code",
   "execution_count": 7,
   "metadata": {},
   "outputs": [
    {
     "output_type": "execute_result",
     "data": {
      "text/plain": [
       "[<div id=\"mngb\"><div id=\"gbar\"><nobr><b class=\"gb1\">Search</b> <a class=\"gb1\" href=\"https://www.google.co.in/imghp?hl=en&amp;tab=wi\">Images</a> <a class=\"gb1\" href=\"https://maps.google.co.in/maps?hl=en&amp;tab=wl\">Maps</a> <a class=\"gb1\" href=\"https://play.google.com/?hl=en&amp;tab=w8\">Play</a> <a class=\"gb1\" href=\"https://www.youtube.com/?gl=IN&amp;tab=w1\">YouTube</a> <a class=\"gb1\" href=\"https://news.google.com/?tab=wn\">News</a> <a class=\"gb1\" href=\"https://mail.google.com/mail/?tab=wm\">Gmail</a> <a class=\"gb1\" href=\"https://drive.google.com/?tab=wo\">Drive</a> <a class=\"gb1\" href=\"https://www.google.co.in/intl/en/about/products?tab=wh\" style=\"text-decoration:none\"><u>More</u> »</a></nobr></div><div id=\"guser\" width=\"100%\"><nobr><span class=\"gbi\" id=\"gbn\"></span><span class=\"gbf\" id=\"gbf\"></span><span id=\"gbe\"></span><a class=\"gb4\" href=\"http://www.google.co.in/history/optout?hl=en\">Web History</a> | <a class=\"gb4\" href=\"/preferences?hl=en\">Settings</a> | <a class=\"gb4\" href=\"https://accounts.google.com/ServiceLogin?hl=en&amp;passive=true&amp;continue=https://www.google.co.in/&amp;ec=GAZAAQ\" id=\"gb_70\" target=\"_top\">Sign in</a></nobr></div><div class=\"gbh\" style=\"left:0\"></div><div class=\"gbh\" style=\"right:0\"></div></div>,\n",
       " <div id=\"gbar\"><nobr><b class=\"gb1\">Search</b> <a class=\"gb1\" href=\"https://www.google.co.in/imghp?hl=en&amp;tab=wi\">Images</a> <a class=\"gb1\" href=\"https://maps.google.co.in/maps?hl=en&amp;tab=wl\">Maps</a> <a class=\"gb1\" href=\"https://play.google.com/?hl=en&amp;tab=w8\">Play</a> <a class=\"gb1\" href=\"https://www.youtube.com/?gl=IN&amp;tab=w1\">YouTube</a> <a class=\"gb1\" href=\"https://news.google.com/?tab=wn\">News</a> <a class=\"gb1\" href=\"https://mail.google.com/mail/?tab=wm\">Gmail</a> <a class=\"gb1\" href=\"https://drive.google.com/?tab=wo\">Drive</a> <a class=\"gb1\" href=\"https://www.google.co.in/intl/en/about/products?tab=wh\" style=\"text-decoration:none\"><u>More</u> »</a></nobr></div>,\n",
       " <div id=\"guser\" width=\"100%\"><nobr><span class=\"gbi\" id=\"gbn\"></span><span class=\"gbf\" id=\"gbf\"></span><span id=\"gbe\"></span><a class=\"gb4\" href=\"http://www.google.co.in/history/optout?hl=en\">Web History</a> | <a class=\"gb4\" href=\"/preferences?hl=en\">Settings</a> | <a class=\"gb4\" href=\"https://accounts.google.com/ServiceLogin?hl=en&amp;passive=true&amp;continue=https://www.google.co.in/&amp;ec=GAZAAQ\" id=\"gb_70\" target=\"_top\">Sign in</a></nobr></div>,\n",
       " <div class=\"gbh\" style=\"left:0\"></div>,\n",
       " <div class=\"gbh\" style=\"right:0\"></div>,\n",
       " <div id=\"lga\"><a href=\"/search?ie=UTF-8&amp;q=UEFA+EURO+2020&amp;oi=ddle&amp;ct=185377521&amp;hl=en-GB&amp;sa=X&amp;ved=0ahUKEwi9tuvX1I7xAhVhxDgGHfTRCKMQPQgD\"><img alt=\"Start of UEFA EURO 2020\" border=\"0\" height=\"220\" id=\"hplogo\" src=\"/logos/doodles/2021/uefa-euro-2020-6753651837109267-l.png\" title=\"Start of UEFA EURO 2020\" width=\"475\"/><br/></a><br/></div>,\n",
       " <div class=\"ds\" style=\"height:32px;margin:4px 0\"><input autocomplete=\"off\" class=\"lst\" maxlength=\"2048\" name=\"q\" size=\"57\" style=\"margin:0;padding:5px 8px 0 6px;vertical-align:top;color:#000\" title=\"Google Search\" value=\"\"/></div>,\n",
       " <div id=\"gac_scont\"></div>,\n",
       " <div style=\"font-size:83%;min-height:3.5em\"><br/><div id=\"gws-output-pages-elements-homepage_additional_languages__als\"><style>#gws-output-pages-elements-homepage_additional_languages__als{font-size:small;margin-bottom:24px}#SIvCob{display:inline-block;line-height:28px;}#SIvCob a{padding:0 3px;}.H6sW5{display:inline-block;margin:0 2px;white-space:nowrap}.z4hgWe{display:inline-block;margin:0 2px}</style><div id=\"SIvCob\">Google offered in:  <a href=\"https://www.google.co.in/setprefs?sig=0_ilqVPW1FNVoLEs15MA4A5cbrPxY%3D&amp;hl=hi&amp;source=homepage&amp;sa=X&amp;ved=0ahUKEwi9tuvX1I7xAhVhxDgGHfTRCKMQ2ZgBCAU\">हिन्दी</a> <a href=\"https://www.google.co.in/setprefs?sig=0_ilqVPW1FNVoLEs15MA4A5cbrPxY%3D&amp;hl=bn&amp;source=homepage&amp;sa=X&amp;ved=0ahUKEwi9tuvX1I7xAhVhxDgGHfTRCKMQ2ZgBCAY\">বাংলা</a> <a href=\"https://www.google.co.in/setprefs?sig=0_ilqVPW1FNVoLEs15MA4A5cbrPxY%3D&amp;hl=te&amp;source=homepage&amp;sa=X&amp;ved=0ahUKEwi9tuvX1I7xAhVhxDgGHfTRCKMQ2ZgBCAc\">తెలుగు</a> <a href=\"https://www.google.co.in/setprefs?sig=0_ilqVPW1FNVoLEs15MA4A5cbrPxY%3D&amp;hl=mr&amp;source=homepage&amp;sa=X&amp;ved=0ahUKEwi9tuvX1I7xAhVhxDgGHfTRCKMQ2ZgBCAg\">मराठी</a> <a href=\"https://www.google.co.in/setprefs?sig=0_ilqVPW1FNVoLEs15MA4A5cbrPxY%3D&amp;hl=ta&amp;source=homepage&amp;sa=X&amp;ved=0ahUKEwi9tuvX1I7xAhVhxDgGHfTRCKMQ2ZgBCAk\">தமிழ்</a> <a href=\"https://www.google.co.in/setprefs?sig=0_ilqVPW1FNVoLEs15MA4A5cbrPxY%3D&amp;hl=gu&amp;source=homepage&amp;sa=X&amp;ved=0ahUKEwi9tuvX1I7xAhVhxDgGHfTRCKMQ2ZgBCAo\">ગુજરાતી</a> <a href=\"https://www.google.co.in/setprefs?sig=0_ilqVPW1FNVoLEs15MA4A5cbrPxY%3D&amp;hl=kn&amp;source=homepage&amp;sa=X&amp;ved=0ahUKEwi9tuvX1I7xAhVhxDgGHfTRCKMQ2ZgBCAs\">ಕನ್ನಡ</a> <a href=\"https://www.google.co.in/setprefs?sig=0_ilqVPW1FNVoLEs15MA4A5cbrPxY%3D&amp;hl=ml&amp;source=homepage&amp;sa=X&amp;ved=0ahUKEwi9tuvX1I7xAhVhxDgGHfTRCKMQ2ZgBCAw\">മലയാളം</a> <a href=\"https://www.google.co.in/setprefs?sig=0_ilqVPW1FNVoLEs15MA4A5cbrPxY%3D&amp;hl=pa&amp;source=homepage&amp;sa=X&amp;ved=0ahUKEwi9tuvX1I7xAhVhxDgGHfTRCKMQ2ZgBCA0\">ਪੰਜਾਬੀ</a> </div></div></div>,\n",
       " <div id=\"gws-output-pages-elements-homepage_additional_languages__als\"><style>#gws-output-pages-elements-homepage_additional_languages__als{font-size:small;margin-bottom:24px}#SIvCob{display:inline-block;line-height:28px;}#SIvCob a{padding:0 3px;}.H6sW5{display:inline-block;margin:0 2px;white-space:nowrap}.z4hgWe{display:inline-block;margin:0 2px}</style><div id=\"SIvCob\">Google offered in:  <a href=\"https://www.google.co.in/setprefs?sig=0_ilqVPW1FNVoLEs15MA4A5cbrPxY%3D&amp;hl=hi&amp;source=homepage&amp;sa=X&amp;ved=0ahUKEwi9tuvX1I7xAhVhxDgGHfTRCKMQ2ZgBCAU\">हिन्दी</a> <a href=\"https://www.google.co.in/setprefs?sig=0_ilqVPW1FNVoLEs15MA4A5cbrPxY%3D&amp;hl=bn&amp;source=homepage&amp;sa=X&amp;ved=0ahUKEwi9tuvX1I7xAhVhxDgGHfTRCKMQ2ZgBCAY\">বাংলা</a> <a href=\"https://www.google.co.in/setprefs?sig=0_ilqVPW1FNVoLEs15MA4A5cbrPxY%3D&amp;hl=te&amp;source=homepage&amp;sa=X&amp;ved=0ahUKEwi9tuvX1I7xAhVhxDgGHfTRCKMQ2ZgBCAc\">తెలుగు</a> <a href=\"https://www.google.co.in/setprefs?sig=0_ilqVPW1FNVoLEs15MA4A5cbrPxY%3D&amp;hl=mr&amp;source=homepage&amp;sa=X&amp;ved=0ahUKEwi9tuvX1I7xAhVhxDgGHfTRCKMQ2ZgBCAg\">मराठी</a> <a href=\"https://www.google.co.in/setprefs?sig=0_ilqVPW1FNVoLEs15MA4A5cbrPxY%3D&amp;hl=ta&amp;source=homepage&amp;sa=X&amp;ved=0ahUKEwi9tuvX1I7xAhVhxDgGHfTRCKMQ2ZgBCAk\">தமிழ்</a> <a href=\"https://www.google.co.in/setprefs?sig=0_ilqVPW1FNVoLEs15MA4A5cbrPxY%3D&amp;hl=gu&amp;source=homepage&amp;sa=X&amp;ved=0ahUKEwi9tuvX1I7xAhVhxDgGHfTRCKMQ2ZgBCAo\">ગુજરાતી</a> <a href=\"https://www.google.co.in/setprefs?sig=0_ilqVPW1FNVoLEs15MA4A5cbrPxY%3D&amp;hl=kn&amp;source=homepage&amp;sa=X&amp;ved=0ahUKEwi9tuvX1I7xAhVhxDgGHfTRCKMQ2ZgBCAs\">ಕನ್ನಡ</a> <a href=\"https://www.google.co.in/setprefs?sig=0_ilqVPW1FNVoLEs15MA4A5cbrPxY%3D&amp;hl=ml&amp;source=homepage&amp;sa=X&amp;ved=0ahUKEwi9tuvX1I7xAhVhxDgGHfTRCKMQ2ZgBCAw\">മലയാളം</a> <a href=\"https://www.google.co.in/setprefs?sig=0_ilqVPW1FNVoLEs15MA4A5cbrPxY%3D&amp;hl=pa&amp;source=homepage&amp;sa=X&amp;ved=0ahUKEwi9tuvX1I7xAhVhxDgGHfTRCKMQ2ZgBCA0\">ਪੰਜਾਬੀ</a> </div></div>,\n",
       " <div id=\"SIvCob\">Google offered in:  <a href=\"https://www.google.co.in/setprefs?sig=0_ilqVPW1FNVoLEs15MA4A5cbrPxY%3D&amp;hl=hi&amp;source=homepage&amp;sa=X&amp;ved=0ahUKEwi9tuvX1I7xAhVhxDgGHfTRCKMQ2ZgBCAU\">हिन्दी</a> <a href=\"https://www.google.co.in/setprefs?sig=0_ilqVPW1FNVoLEs15MA4A5cbrPxY%3D&amp;hl=bn&amp;source=homepage&amp;sa=X&amp;ved=0ahUKEwi9tuvX1I7xAhVhxDgGHfTRCKMQ2ZgBCAY\">বাংলা</a> <a href=\"https://www.google.co.in/setprefs?sig=0_ilqVPW1FNVoLEs15MA4A5cbrPxY%3D&amp;hl=te&amp;source=homepage&amp;sa=X&amp;ved=0ahUKEwi9tuvX1I7xAhVhxDgGHfTRCKMQ2ZgBCAc\">తెలుగు</a> <a href=\"https://www.google.co.in/setprefs?sig=0_ilqVPW1FNVoLEs15MA4A5cbrPxY%3D&amp;hl=mr&amp;source=homepage&amp;sa=X&amp;ved=0ahUKEwi9tuvX1I7xAhVhxDgGHfTRCKMQ2ZgBCAg\">मराठी</a> <a href=\"https://www.google.co.in/setprefs?sig=0_ilqVPW1FNVoLEs15MA4A5cbrPxY%3D&amp;hl=ta&amp;source=homepage&amp;sa=X&amp;ved=0ahUKEwi9tuvX1I7xAhVhxDgGHfTRCKMQ2ZgBCAk\">தமிழ்</a> <a href=\"https://www.google.co.in/setprefs?sig=0_ilqVPW1FNVoLEs15MA4A5cbrPxY%3D&amp;hl=gu&amp;source=homepage&amp;sa=X&amp;ved=0ahUKEwi9tuvX1I7xAhVhxDgGHfTRCKMQ2ZgBCAo\">ગુજરાતી</a> <a href=\"https://www.google.co.in/setprefs?sig=0_ilqVPW1FNVoLEs15MA4A5cbrPxY%3D&amp;hl=kn&amp;source=homepage&amp;sa=X&amp;ved=0ahUKEwi9tuvX1I7xAhVhxDgGHfTRCKMQ2ZgBCAs\">ಕನ್ನಡ</a> <a href=\"https://www.google.co.in/setprefs?sig=0_ilqVPW1FNVoLEs15MA4A5cbrPxY%3D&amp;hl=ml&amp;source=homepage&amp;sa=X&amp;ved=0ahUKEwi9tuvX1I7xAhVhxDgGHfTRCKMQ2ZgBCAw\">മലയാളം</a> <a href=\"https://www.google.co.in/setprefs?sig=0_ilqVPW1FNVoLEs15MA4A5cbrPxY%3D&amp;hl=pa&amp;source=homepage&amp;sa=X&amp;ved=0ahUKEwi9tuvX1I7xAhVhxDgGHfTRCKMQ2ZgBCA0\">ਪੰਜਾਬੀ</a> </div>,\n",
       " <div style=\"font-size:10pt\"><div id=\"WqQANb\" style=\"margin:19px auto;text-align:center\"><a href=\"/intl/en/ads/\">Advertising Programs</a><a href=\"http://www.google.co.in/services/\">Business Solutions</a><a href=\"/intl/en/about.html\">About Google</a><a href=\"https://www.google.co.in/setprefdomain?prefdom=US&amp;sig=K_-0oJ6BKcf4_nZVmJmfbjjYxC074%3D\" id=\"fehl\">Google.com</a></div></div>,\n",
       " <div id=\"WqQANb\" style=\"margin:19px auto;text-align:center\"><a href=\"/intl/en/ads/\">Advertising Programs</a><a href=\"http://www.google.co.in/services/\">Business Solutions</a><a href=\"/intl/en/about.html\">About Google</a><a href=\"https://www.google.co.in/setprefdomain?prefdom=US&amp;sig=K_-0oJ6BKcf4_nZVmJmfbjjYxC074%3D\" id=\"fehl\">Google.com</a></div>]"
      ]
     },
     "metadata": {},
     "execution_count": 7
    }
   ],
   "source": [
    "soup.select('div')"
   ]
  },
  {
   "cell_type": "code",
   "execution_count": 8,
   "metadata": {},
   "outputs": [
    {
     "output_type": "stream",
     "name": "stdout",
     "text": [
      "Search Images Maps Play YouTube News Gmail Drive More »Web History | Settings | Sign in\nSearch Images Maps Play YouTube News Gmail Drive More »\nWeb History | Settings | Sign in\n\n\n\n\n\nGoogle offered in:  हिन्दी বাংলা తెలుగు मराठी தமிழ் ગુજરાતી ಕನ್ನಡ മലയാളം ਪੰਜਾਬੀ \nGoogle offered in:  हिन्दी বাংলা తెలుగు मराठी தமிழ் ગુજરાતી ಕನ್ನಡ മലയാളം ਪੰਜਾਬੀ \nGoogle offered in:  हिन्दी বাংলা తెలుగు मराठी தமிழ் ગુજરાતી ಕನ್ನಡ മലയാളം ਪੰਜਾਬੀ \nAdvertising ProgramsBusiness SolutionsAbout GoogleGoogle.com\nAdvertising ProgramsBusiness SolutionsAbout GoogleGoogle.com\n"
     ]
    }
   ],
   "source": [
    "for i in soup.select('div'):\n",
    "    print(i.text)"
   ]
  },
  {
   "cell_type": "code",
   "execution_count": 9,
   "metadata": {},
   "outputs": [
    {
     "output_type": "stream",
     "name": "stdout",
     "text": [
      "https://www.google.co.in/imghp?hl=en&tab=wi\nhttps://maps.google.co.in/maps?hl=en&tab=wl\nhttps://play.google.com/?hl=en&tab=w8\nhttps://www.youtube.com/?gl=IN&tab=w1\nhttps://news.google.com/?tab=wn\nhttps://mail.google.com/mail/?tab=wm\nhttps://drive.google.com/?tab=wo\nhttps://www.google.co.in/intl/en/about/products?tab=wh\nhttp://www.google.co.in/history/optout?hl=en\n/preferences?hl=en\nhttps://accounts.google.com/ServiceLogin?hl=en&passive=true&continue=https://www.google.co.in/&ec=GAZAAQ\n/search?ie=UTF-8&q=UEFA+EURO+2020&oi=ddle&ct=185377521&hl=en-GB&sa=X&ved=0ahUKEwi9tuvX1I7xAhVhxDgGHfTRCKMQPQgD\n/advanced_search?hl=en-IN&authuser=0\nhttps://www.google.co.in/setprefs?sig=0_ilqVPW1FNVoLEs15MA4A5cbrPxY%3D&hl=hi&source=homepage&sa=X&ved=0ahUKEwi9tuvX1I7xAhVhxDgGHfTRCKMQ2ZgBCAU\nhttps://www.google.co.in/setprefs?sig=0_ilqVPW1FNVoLEs15MA4A5cbrPxY%3D&hl=bn&source=homepage&sa=X&ved=0ahUKEwi9tuvX1I7xAhVhxDgGHfTRCKMQ2ZgBCAY\nhttps://www.google.co.in/setprefs?sig=0_ilqVPW1FNVoLEs15MA4A5cbrPxY%3D&hl=te&source=homepage&sa=X&ved=0ahUKEwi9tuvX1I7xAhVhxDgGHfTRCKMQ2ZgBCAc\nhttps://www.google.co.in/setprefs?sig=0_ilqVPW1FNVoLEs15MA4A5cbrPxY%3D&hl=mr&source=homepage&sa=X&ved=0ahUKEwi9tuvX1I7xAhVhxDgGHfTRCKMQ2ZgBCAg\nhttps://www.google.co.in/setprefs?sig=0_ilqVPW1FNVoLEs15MA4A5cbrPxY%3D&hl=ta&source=homepage&sa=X&ved=0ahUKEwi9tuvX1I7xAhVhxDgGHfTRCKMQ2ZgBCAk\nhttps://www.google.co.in/setprefs?sig=0_ilqVPW1FNVoLEs15MA4A5cbrPxY%3D&hl=gu&source=homepage&sa=X&ved=0ahUKEwi9tuvX1I7xAhVhxDgGHfTRCKMQ2ZgBCAo\nhttps://www.google.co.in/setprefs?sig=0_ilqVPW1FNVoLEs15MA4A5cbrPxY%3D&hl=kn&source=homepage&sa=X&ved=0ahUKEwi9tuvX1I7xAhVhxDgGHfTRCKMQ2ZgBCAs\nhttps://www.google.co.in/setprefs?sig=0_ilqVPW1FNVoLEs15MA4A5cbrPxY%3D&hl=ml&source=homepage&sa=X&ved=0ahUKEwi9tuvX1I7xAhVhxDgGHfTRCKMQ2ZgBCAw\nhttps://www.google.co.in/setprefs?sig=0_ilqVPW1FNVoLEs15MA4A5cbrPxY%3D&hl=pa&source=homepage&sa=X&ved=0ahUKEwi9tuvX1I7xAhVhxDgGHfTRCKMQ2ZgBCA0\n/intl/en/ads/\nhttp://www.google.co.in/services/\n/intl/en/about.html\nhttps://www.google.co.in/setprefdomain?prefdom=US&sig=K_-0oJ6BKcf4_nZVmJmfbjjYxC074%3D\n/intl/en/policies/privacy/\n/intl/en/policies/terms/\n"
     ]
    }
   ],
   "source": [
    "for link in soup.find_all('a', href=True):\n",
    "    print(link['href'])"
   ]
  },
  {
   "cell_type": "code",
   "execution_count": 10,
   "metadata": {},
   "outputs": [],
   "source": [
    "import xlsxwriter"
   ]
  },
  {
   "cell_type": "code",
   "execution_count": 11,
   "metadata": {},
   "outputs": [
    {
     "output_type": "execute_result",
     "data": {
      "text/plain": [
       "0"
      ]
     },
     "metadata": {},
     "execution_count": 11
    }
   ],
   "source": [
    "xw = xlsxwriter.Workbook(\"ss1.xlsx\")\n",
    "outsheet = xw.add_worksheet()\n",
    "outsheet.write(\"A1\", res.text)"
   ]
  },
  {
   "cell_type": "code",
   "execution_count": 12,
   "metadata": {},
   "outputs": [
    {
     "output_type": "execute_result",
     "data": {
      "text/plain": [
       "0"
      ]
     },
     "metadata": {},
     "execution_count": 12
    }
   ],
   "source": [
    "outsheet.write(\"C1\", n1[0].getText())"
   ]
  },
  {
   "cell_type": "code",
   "execution_count": 13,
   "metadata": {},
   "outputs": [],
   "source": [
    "xw.close()"
   ]
  }
 ]
}